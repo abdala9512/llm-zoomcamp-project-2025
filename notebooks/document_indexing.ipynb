{
 "cells": [
  {
   "cell_type": "code",
   "execution_count": 8,
   "id": "3066a9a8-1ac4-4301-a909-d0b6af755c0e",
   "metadata": {},
   "outputs": [],
   "source": [
    "import boto3\n",
    "from qdrant_client import QdrantClient, models\n",
    "import dotenv\n",
    "import loguru\n",
    "\n",
    "dotenv.load_dotenv(\"../.env\")\n",
    "\n",
    "\n",
    "BUCKET_NAME = \"llm-zoomcamp-pj2025\"\n"
   ]
  },
  {
   "cell_type": "code",
   "execution_count": 9,
   "id": "038e5601-4648-4ad5-8f0d-4ca8a3840667",
   "metadata": {},
   "outputs": [
    {
     "data": {
      "text/plain": [
       "{'ResponseMetadata': {'RequestId': 'A4NMBXNC7ZNGCNGY',\n",
       "  'HostId': 'DDrNo6lvPyQQqA9z4y/wglRe6Gxt8XlmJkyUNAMk/okFxZ4VoZUttSyPu+SfR87osmXBErv6+n0=',\n",
       "  'HTTPStatusCode': 200,\n",
       "  'HTTPHeaders': {'x-amz-id-2': 'DDrNo6lvPyQQqA9z4y/wglRe6Gxt8XlmJkyUNAMk/okFxZ4VoZUttSyPu+SfR87osmXBErv6+n0=',\n",
       "   'x-amz-request-id': 'A4NMBXNC7ZNGCNGY',\n",
       "   'date': 'Sat, 19 Jul 2025 14:10:51 GMT',\n",
       "   'last-modified': 'Fri, 18 Jul 2025 22:10:14 GMT',\n",
       "   'etag': '\"e25fcf774a3efcf05becb3e9eb761064\"',\n",
       "   'x-amz-checksum-crc32': '6WR9ww==',\n",
       "   'x-amz-checksum-type': 'FULL_OBJECT',\n",
       "   'x-amz-server-side-encryption': 'AES256',\n",
       "   'accept-ranges': 'bytes',\n",
       "   'content-type': 'text/markdown',\n",
       "   'content-length': '97284',\n",
       "   'server': 'AmazonS3'},\n",
       "  'ChecksumAlgorithm': 'crc32',\n",
       "  'RetryAttempts': 0},\n",
       " 'AcceptRanges': 'bytes',\n",
       " 'LastModified': datetime.datetime(2025, 7, 18, 22, 10, 14, tzinfo=tzutc()),\n",
       " 'ContentLength': 97284,\n",
       " 'ETag': '\"e25fcf774a3efcf05becb3e9eb761064\"',\n",
       " 'ChecksumCRC32': '6WR9ww==',\n",
       " 'ChecksumType': 'FULL_OBJECT',\n",
       " 'ContentType': 'text/markdown',\n",
       " 'ServerSideEncryption': 'AES256',\n",
       " 'Metadata': {},\n",
       " 'Body': <botocore.httpchecksum.StreamingChecksumBody at 0x10e210520>}"
      ]
     },
     "execution_count": 9,
     "metadata": {},
     "output_type": "execute_result"
    }
   ],
   "source": [
    "s3_client = boto3.client('s3', region_name=\"us-east-1\")\n",
    "\n",
    "s3document = s3_client.get_object(\n",
    "            Bucket=BUCKET_NAME,\n",
    "            Key=\"processed_documents/text_processed.md\",\n",
    ")\n",
    "s3document"
   ]
  },
  {
   "cell_type": "code",
   "execution_count": null,
   "id": "e18abb92-ad4a-4b7f-9308-27da7769f4fc",
   "metadata": {},
   "outputs": [],
   "source": [
    "markdown_doc = s3document[\"Body\"].read()"
   ]
  },
  {
   "cell_type": "code",
   "execution_count": 4,
   "id": "c8a2f2ac-d69b-42d5-8a9c-bfa0d7aa2eec",
   "metadata": {},
   "outputs": [],
   "source": [
    "def chunk_document(text: str, method: str = \"fixed-size\") -> dict:\n",
    "    # https://www.pinecone.io/learn/chunking-strategies/\n",
    "    \"\"\"\n",
    "        Chunking methods: [\"fixed-sized\"]\n",
    "    \"\"\"\n",
    "    pass"
   ]
  },
  {
   "cell_type": "code",
   "execution_count": null,
   "id": "008a23d0-d54b-4194-8b02-aa1a7e97271a",
   "metadata": {},
   "outputs": [],
   "source": []
  }
 ],
 "metadata": {
  "kernelspec": {
   "display_name": "Python 3 (ipykernel)",
   "language": "python",
   "name": "python3"
  },
  "language_info": {
   "codemirror_mode": {
    "name": "ipython",
    "version": 3
   },
   "file_extension": ".py",
   "mimetype": "text/x-python",
   "name": "python",
   "nbconvert_exporter": "python",
   "pygments_lexer": "ipython3",
   "version": "3.9.6"
  }
 },
 "nbformat": 4,
 "nbformat_minor": 5
}
